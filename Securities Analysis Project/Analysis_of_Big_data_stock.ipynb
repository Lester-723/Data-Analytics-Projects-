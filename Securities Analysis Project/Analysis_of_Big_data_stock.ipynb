{
 "cells": [
  {
   "cell_type": "code",
   "execution_count": 105,
   "metadata": {},
   "outputs": [],
   "source": [
    "\n",
    "import warnings\n",
    "import sys\n",
    "warnings.filterwarnings('ignore')\n",
    "import numpy as np\n",
    "import pandas as pd\n",
    "import matplotlib.pyplot as plt\n",
    "from pandas_datareader import data as pdr\n",
    "import yfinance as yf\n",
    "import sys\n",
    "%run Securities.py"
   ]
  },
  {
   "cell_type": "code",
   "execution_count": 106,
   "metadata": {},
   "outputs": [],
   "source": [
    "tech_tickers = [\"TSLA\", \"AMZN\", \"AAPL\", \"GOOG\", \"MSFT\"]"
   ]
  },
  {
   "cell_type": "code",
   "execution_count": 107,
   "metadata": {},
   "outputs": [],
   "source": [
    "securities = Stock_returns_analysis(tech_tickers, start_date = \"2021-1-1\", end_date = \"2022-1-1\")"
   ]
  },
  {
   "cell_type": "code",
   "execution_count": 108,
   "metadata": {},
   "outputs": [
    {
     "name": "stdout",
     "output_type": "stream",
     "text": [
      "[*********************100%***********************]  1 of 1 completed\n",
      "[*********************100%***********************]  1 of 1 completed\n",
      "[*********************100%***********************]  1 of 1 completed\n",
      "[*********************100%***********************]  1 of 1 completed\n",
      "[*********************100%***********************]  1 of 1 completed\n"
     ]
    },
    {
     "data": {
      "text/html": [
       "<div>\n",
       "<style scoped>\n",
       "    .dataframe tbody tr th:only-of-type {\n",
       "        vertical-align: middle;\n",
       "    }\n",
       "\n",
       "    .dataframe tbody tr th {\n",
       "        vertical-align: top;\n",
       "    }\n",
       "\n",
       "    .dataframe thead th {\n",
       "        text-align: right;\n",
       "    }\n",
       "</style>\n",
       "<table border=\"1\" class=\"dataframe\">\n",
       "  <thead>\n",
       "    <tr style=\"text-align: right;\">\n",
       "      <th></th>\n",
       "      <th>TSLA</th>\n",
       "      <th>AMZN</th>\n",
       "      <th>AAPL</th>\n",
       "      <th>GOOG</th>\n",
       "      <th>MSFT</th>\n",
       "    </tr>\n",
       "    <tr>\n",
       "      <th>Date</th>\n",
       "      <th></th>\n",
       "      <th></th>\n",
       "      <th></th>\n",
       "      <th></th>\n",
       "      <th></th>\n",
       "    </tr>\n",
       "  </thead>\n",
       "  <tbody>\n",
       "    <tr>\n",
       "      <th>2021-01-04</th>\n",
       "      <td>243.256668</td>\n",
       "      <td>159.331497</td>\n",
       "      <td>127.679993</td>\n",
       "      <td>86.412003</td>\n",
       "      <td>213.341995</td>\n",
       "    </tr>\n",
       "    <tr>\n",
       "      <th>2021-01-05</th>\n",
       "      <td>245.036667</td>\n",
       "      <td>160.925507</td>\n",
       "      <td>129.258591</td>\n",
       "      <td>87.045998</td>\n",
       "      <td>213.547791</td>\n",
       "    </tr>\n",
       "    <tr>\n",
       "      <th>2021-01-06</th>\n",
       "      <td>251.993332</td>\n",
       "      <td>156.919006</td>\n",
       "      <td>124.907578</td>\n",
       "      <td>86.764503</td>\n",
       "      <td>208.010666</td>\n",
       "    </tr>\n",
       "    <tr>\n",
       "      <th>2021-01-07</th>\n",
       "      <td>272.013336</td>\n",
       "      <td>158.108002</td>\n",
       "      <td>129.169800</td>\n",
       "      <td>89.362503</td>\n",
       "      <td>213.930023</td>\n",
       "    </tr>\n",
       "    <tr>\n",
       "      <th>2021-01-08</th>\n",
       "      <td>293.339996</td>\n",
       "      <td>159.134995</td>\n",
       "      <td>130.284714</td>\n",
       "      <td>90.360497</td>\n",
       "      <td>215.233444</td>\n",
       "    </tr>\n",
       "    <tr>\n",
       "      <th>...</th>\n",
       "      <td>...</td>\n",
       "      <td>...</td>\n",
       "      <td>...</td>\n",
       "      <td>...</td>\n",
       "      <td>...</td>\n",
       "    </tr>\n",
       "    <tr>\n",
       "      <th>2021-12-27</th>\n",
       "      <td>364.646667</td>\n",
       "      <td>169.669495</td>\n",
       "      <td>179.016129</td>\n",
       "      <td>148.063995</td>\n",
       "      <td>338.423340</td>\n",
       "    </tr>\n",
       "    <tr>\n",
       "      <th>2021-12-28</th>\n",
       "      <td>362.823334</td>\n",
       "      <td>170.660995</td>\n",
       "      <td>177.983673</td>\n",
       "      <td>146.447998</td>\n",
       "      <td>337.237457</td>\n",
       "    </tr>\n",
       "    <tr>\n",
       "      <th>2021-12-29</th>\n",
       "      <td>362.063324</td>\n",
       "      <td>169.201004</td>\n",
       "      <td>178.073044</td>\n",
       "      <td>146.504501</td>\n",
       "      <td>337.929199</td>\n",
       "    </tr>\n",
       "    <tr>\n",
       "      <th>2021-12-30</th>\n",
       "      <td>356.779999</td>\n",
       "      <td>168.644501</td>\n",
       "      <td>176.901642</td>\n",
       "      <td>146.002502</td>\n",
       "      <td>335.330109</td>\n",
       "    </tr>\n",
       "    <tr>\n",
       "      <th>2021-12-31</th>\n",
       "      <td>352.260010</td>\n",
       "      <td>166.716995</td>\n",
       "      <td>176.276230</td>\n",
       "      <td>144.679504</td>\n",
       "      <td>332.365417</td>\n",
       "    </tr>\n",
       "  </tbody>\n",
       "</table>\n",
       "<p>252 rows × 5 columns</p>\n",
       "</div>"
      ],
      "text/plain": [
       "                  TSLA        AMZN        AAPL        GOOG        MSFT\n",
       "Date                                                                  \n",
       "2021-01-04  243.256668  159.331497  127.679993   86.412003  213.341995\n",
       "2021-01-05  245.036667  160.925507  129.258591   87.045998  213.547791\n",
       "2021-01-06  251.993332  156.919006  124.907578   86.764503  208.010666\n",
       "2021-01-07  272.013336  158.108002  129.169800   89.362503  213.930023\n",
       "2021-01-08  293.339996  159.134995  130.284714   90.360497  215.233444\n",
       "...                ...         ...         ...         ...         ...\n",
       "2021-12-27  364.646667  169.669495  179.016129  148.063995  338.423340\n",
       "2021-12-28  362.823334  170.660995  177.983673  146.447998  337.237457\n",
       "2021-12-29  362.063324  169.201004  178.073044  146.504501  337.929199\n",
       "2021-12-30  356.779999  168.644501  176.901642  146.002502  335.330109\n",
       "2021-12-31  352.260010  166.716995  176.276230  144.679504  332.365417\n",
       "\n",
       "[252 rows x 5 columns]"
      ]
     },
     "execution_count": 108,
     "metadata": {},
     "output_type": "execute_result"
    }
   ],
   "source": [
    "securities.download_stocks_closing(column_name = \"Adj Close\")"
   ]
  },
  {
   "cell_type": "code",
   "execution_count": 109,
   "metadata": {},
   "outputs": [
    {
     "data": {
      "text/html": [
       "<div>\n",
       "<style scoped>\n",
       "    .dataframe tbody tr th:only-of-type {\n",
       "        vertical-align: middle;\n",
       "    }\n",
       "\n",
       "    .dataframe tbody tr th {\n",
       "        vertical-align: top;\n",
       "    }\n",
       "\n",
       "    .dataframe thead th {\n",
       "        text-align: right;\n",
       "    }\n",
       "</style>\n",
       "<table border=\"1\" class=\"dataframe\">\n",
       "  <thead>\n",
       "    <tr style=\"text-align: right;\">\n",
       "      <th></th>\n",
       "      <th>TSLA</th>\n",
       "      <th>AMZN</th>\n",
       "      <th>AAPL</th>\n",
       "      <th>GOOG</th>\n",
       "      <th>MSFT</th>\n",
       "    </tr>\n",
       "  </thead>\n",
       "  <tbody>\n",
       "    <tr>\n",
       "      <th>max</th>\n",
       "      <td>409.970001</td>\n",
       "      <td>186.570496</td>\n",
       "      <td>179.016129</td>\n",
       "      <td>150.709000</td>\n",
       "      <td>339.075531</td>\n",
       "    </tr>\n",
       "    <tr>\n",
       "      <th>min</th>\n",
       "      <td>187.666672</td>\n",
       "      <td>147.597504</td>\n",
       "      <td>114.976006</td>\n",
       "      <td>86.412003</td>\n",
       "      <td>208.010666</td>\n",
       "    </tr>\n",
       "    <tr>\n",
       "      <th>mean</th>\n",
       "      <td>259.998162</td>\n",
       "      <td>167.193349</td>\n",
       "      <td>139.587719</td>\n",
       "      <td>125.530687</td>\n",
       "      <td>271.712494</td>\n",
       "    </tr>\n",
       "  </tbody>\n",
       "</table>\n",
       "</div>"
      ],
      "text/plain": [
       "            TSLA        AMZN        AAPL        GOOG        MSFT\n",
       "max   409.970001  186.570496  179.016129  150.709000  339.075531\n",
       "min   187.666672  147.597504  114.976006   86.412003  208.010666\n",
       "mean  259.998162  167.193349  139.587719  125.530687  271.712494"
      ]
     },
     "execution_count": 109,
     "metadata": {},
     "output_type": "execute_result"
    }
   ],
   "source": [
    "securities.stock_stats()"
   ]
  },
  {
   "cell_type": "code",
   "execution_count": 110,
   "metadata": {},
   "outputs": [
    {
     "data": {
      "image/png": "[encoded data removed]",
      "text/plain": [
       "<Figure size 288x288 with 1 Axes>"
      ]
     },
     "metadata": {
      "needs_background": "light"
     },
     "output_type": "display_data"
    }
   ],
   "source": [
    "securities.stock_relationship()"
   ]
  },
  {
   "cell_type": "code",
   "execution_count": 111,
   "metadata": {},
   "outputs": [
    {
     "data": {
      "text/plain": [
       "5"
      ]
     },
     "execution_count": 111,
     "metadata": {},
     "output_type": "execute_result"
    }
   ],
   "source": [
    "len(securities)"
   ]
  },
  {
   "cell_type": "code",
   "execution_count": 112,
   "metadata": {},
   "outputs": [
    {
     "data": {
      "text/html": [
       "<div>\n",
       "<style scoped>\n",
       "    .dataframe tbody tr th:only-of-type {\n",
       "        vertical-align: middle;\n",
       "    }\n",
       "\n",
       "    .dataframe tbody tr th {\n",
       "        vertical-align: top;\n",
       "    }\n",
       "\n",
       "    .dataframe thead th {\n",
       "        text-align: right;\n",
       "    }\n",
       "</style>\n",
       "<table border=\"1\" class=\"dataframe\">\n",
       "  <thead>\n",
       "    <tr style=\"text-align: right;\">\n",
       "      <th></th>\n",
       "      <th>TSLA</th>\n",
       "      <th>AMZN</th>\n",
       "      <th>AAPL</th>\n",
       "      <th>GOOG</th>\n",
       "      <th>MSFT</th>\n",
       "    </tr>\n",
       "  </thead>\n",
       "  <tbody>\n",
       "    <tr>\n",
       "      <th>max</th>\n",
       "      <td>409.970001</td>\n",
       "      <td>186.570496</td>\n",
       "      <td>179.016129</td>\n",
       "      <td>150.709000</td>\n",
       "      <td>339.075531</td>\n",
       "    </tr>\n",
       "    <tr>\n",
       "      <th>min</th>\n",
       "      <td>187.666672</td>\n",
       "      <td>147.597504</td>\n",
       "      <td>114.976006</td>\n",
       "      <td>86.412003</td>\n",
       "      <td>208.010666</td>\n",
       "    </tr>\n",
       "    <tr>\n",
       "      <th>mean</th>\n",
       "      <td>259.998162</td>\n",
       "      <td>167.193349</td>\n",
       "      <td>139.587719</td>\n",
       "      <td>125.530687</td>\n",
       "      <td>271.712494</td>\n",
       "    </tr>\n",
       "  </tbody>\n",
       "</table>\n",
       "</div>"
      ],
      "text/plain": [
       "            TSLA        AMZN        AAPL        GOOG        MSFT\n",
       "max   409.970001  186.570496  179.016129  150.709000  339.075531\n",
       "min   187.666672  147.597504  114.976006   86.412003  208.010666\n",
       "mean  259.998162  167.193349  139.587719  125.530687  271.712494"
      ]
     },
     "execution_count": 112,
     "metadata": {},
     "output_type": "execute_result"
    }
   ],
   "source": [
    "securities.stock_stats()"
   ]
  },
  {
   "cell_type": "code",
   "execution_count": 113,
   "metadata": {},
   "outputs": [
    {
     "data": {
      "text/html": [
       "<div>\n",
       "<style scoped>\n",
       "    .dataframe tbody tr th:only-of-type {\n",
       "        vertical-align: middle;\n",
       "    }\n",
       "\n",
       "    .dataframe tbody tr th {\n",
       "        vertical-align: top;\n",
       "    }\n",
       "\n",
       "    .dataframe thead th {\n",
       "        text-align: right;\n",
       "    }\n",
       "</style>\n",
       "<table border=\"1\" class=\"dataframe\">\n",
       "  <thead>\n",
       "    <tr style=\"text-align: right;\">\n",
       "      <th></th>\n",
       "      <th>TSLA</th>\n",
       "      <th>AMZN</th>\n",
       "      <th>AAPL</th>\n",
       "      <th>GOOG</th>\n",
       "      <th>MSFT</th>\n",
       "    </tr>\n",
       "    <tr>\n",
       "      <th>Date</th>\n",
       "      <th></th>\n",
       "      <th></th>\n",
       "      <th></th>\n",
       "      <th></th>\n",
       "      <th></th>\n",
       "    </tr>\n",
       "  </thead>\n",
       "  <tbody>\n",
       "    <tr>\n",
       "      <th>2021-01-04</th>\n",
       "      <td>243.256668</td>\n",
       "      <td>159.331497</td>\n",
       "      <td>127.679993</td>\n",
       "      <td>86.412003</td>\n",
       "      <td>213.341995</td>\n",
       "    </tr>\n",
       "    <tr>\n",
       "      <th>2021-01-05</th>\n",
       "      <td>245.036667</td>\n",
       "      <td>160.925507</td>\n",
       "      <td>129.258591</td>\n",
       "      <td>87.045998</td>\n",
       "      <td>213.547791</td>\n",
       "    </tr>\n",
       "    <tr>\n",
       "      <th>2021-01-06</th>\n",
       "      <td>251.993332</td>\n",
       "      <td>156.919006</td>\n",
       "      <td>124.907578</td>\n",
       "      <td>86.764503</td>\n",
       "      <td>208.010666</td>\n",
       "    </tr>\n",
       "    <tr>\n",
       "      <th>2021-01-07</th>\n",
       "      <td>272.013336</td>\n",
       "      <td>158.108002</td>\n",
       "      <td>129.169800</td>\n",
       "      <td>89.362503</td>\n",
       "      <td>213.930023</td>\n",
       "    </tr>\n",
       "    <tr>\n",
       "      <th>2021-01-08</th>\n",
       "      <td>293.339996</td>\n",
       "      <td>159.134995</td>\n",
       "      <td>130.284714</td>\n",
       "      <td>90.360497</td>\n",
       "      <td>215.233444</td>\n",
       "    </tr>\n",
       "    <tr>\n",
       "      <th>...</th>\n",
       "      <td>...</td>\n",
       "      <td>...</td>\n",
       "      <td>...</td>\n",
       "      <td>...</td>\n",
       "      <td>...</td>\n",
       "    </tr>\n",
       "    <tr>\n",
       "      <th>2021-12-27</th>\n",
       "      <td>364.646667</td>\n",
       "      <td>169.669495</td>\n",
       "      <td>179.016129</td>\n",
       "      <td>148.063995</td>\n",
       "      <td>338.423340</td>\n",
       "    </tr>\n",
       "    <tr>\n",
       "      <th>2021-12-28</th>\n",
       "      <td>362.823334</td>\n",
       "      <td>170.660995</td>\n",
       "      <td>177.983673</td>\n",
       "      <td>146.447998</td>\n",
       "      <td>337.237457</td>\n",
       "    </tr>\n",
       "    <tr>\n",
       "      <th>2021-12-29</th>\n",
       "      <td>362.063324</td>\n",
       "      <td>169.201004</td>\n",
       "      <td>178.073044</td>\n",
       "      <td>146.504501</td>\n",
       "      <td>337.929199</td>\n",
       "    </tr>\n",
       "    <tr>\n",
       "      <th>2021-12-30</th>\n",
       "      <td>356.779999</td>\n",
       "      <td>168.644501</td>\n",
       "      <td>176.901642</td>\n",
       "      <td>146.002502</td>\n",
       "      <td>335.330109</td>\n",
       "    </tr>\n",
       "    <tr>\n",
       "      <th>2021-12-31</th>\n",
       "      <td>352.260010</td>\n",
       "      <td>166.716995</td>\n",
       "      <td>176.276230</td>\n",
       "      <td>144.679504</td>\n",
       "      <td>332.365417</td>\n",
       "    </tr>\n",
       "  </tbody>\n",
       "</table>\n",
       "<p>252 rows × 5 columns</p>\n",
       "</div>"
      ],
      "text/plain": [
       "                  TSLA        AMZN        AAPL        GOOG        MSFT\n",
       "Date                                                                  \n",
       "2021-01-04  243.256668  159.331497  127.679993   86.412003  213.341995\n",
       "2021-01-05  245.036667  160.925507  129.258591   87.045998  213.547791\n",
       "2021-01-06  251.993332  156.919006  124.907578   86.764503  208.010666\n",
       "2021-01-07  272.013336  158.108002  129.169800   89.362503  213.930023\n",
       "2021-01-08  293.339996  159.134995  130.284714   90.360497  215.233444\n",
       "...                ...         ...         ...         ...         ...\n",
       "2021-12-27  364.646667  169.669495  179.016129  148.063995  338.423340\n",
       "2021-12-28  362.823334  170.660995  177.983673  146.447998  337.237457\n",
       "2021-12-29  362.063324  169.201004  178.073044  146.504501  337.929199\n",
       "2021-12-30  356.779999  168.644501  176.901642  146.002502  335.330109\n",
       "2021-12-31  352.260010  166.716995  176.276230  144.679504  332.365417\n",
       "\n",
       "[252 rows x 5 columns]"
      ]
     },
     "execution_count": 113,
     "metadata": {},
     "output_type": "execute_result"
    }
   ],
   "source": [
    "securities.fill_values(\"backward\")"
   ]
  },
  {
   "cell_type": "code",
   "execution_count": 120,
   "metadata": {},
   "outputs": [
    {
     "name": "stdout",
     "output_type": "stream",
     "text": [
      "Stocks: ['TSLA', 'AMZN', 'AAPL', 'GOOG', 'MSFT']\n"
     ]
    }
   ],
   "source": [
    "print(securities)"
   ]
  },
  {
   "cell_type": "code",
   "execution_count": 114,
   "metadata": {},
   "outputs": [
    {
     "data": {
      "text/plain": [
       "TSLA       AxesSubplot(0.125,0.125;0.133621x0.755)\n",
       "AMZN    AxesSubplot(0.285345,0.125;0.133621x0.755)\n",
       "AAPL     AxesSubplot(0.44569,0.125;0.133621x0.755)\n",
       "GOOG    AxesSubplot(0.606034,0.125;0.133621x0.755)\n",
       "MSFT    AxesSubplot(0.766379,0.125;0.133621x0.755)\n",
       "dtype: object"
      ]
     },
     "execution_count": 114,
     "metadata": {},
     "output_type": "execute_result"
    },
    {
     "data": {
      "image/png": "[encoded data removed]",
      "text/plain": [
       "<Figure size 1080x648 with 5 Axes>"
      ]
     },
     "metadata": {
      "needs_background": "light"
     },
     "output_type": "display_data"
    }
   ],
   "source": [
    "securities.data_distribution()"
   ]
  },
  {
   "cell_type": "code",
   "execution_count": 115,
   "metadata": {},
   "outputs": [
    {
     "name": "stdout",
     "output_type": "stream",
     "text": [
      "[*********************100%***********************]  1 of 1 completed\n",
      "[*********************100%***********************]  1 of 1 completed\n",
      "[*********************100%***********************]  1 of 1 completed\n",
      "[*********************100%***********************]  1 of 1 completed\n",
      "[*********************100%***********************]  1 of 1 completed\n"
     ]
    },
    {
     "data": {
      "text/html": [
       "<div>\n",
       "<style scoped>\n",
       "    .dataframe tbody tr th:only-of-type {\n",
       "        vertical-align: middle;\n",
       "    }\n",
       "\n",
       "    .dataframe tbody tr th {\n",
       "        vertical-align: top;\n",
       "    }\n",
       "\n",
       "    .dataframe thead th {\n",
       "        text-align: right;\n",
       "    }\n",
       "</style>\n",
       "<table border=\"1\" class=\"dataframe\">\n",
       "  <thead>\n",
       "    <tr style=\"text-align: right;\">\n",
       "      <th></th>\n",
       "      <th>Symbol</th>\n",
       "      <th>Open</th>\n",
       "      <th>High</th>\n",
       "      <th>Low</th>\n",
       "      <th>Close</th>\n",
       "      <th>Adj Close</th>\n",
       "      <th>Volume</th>\n",
       "    </tr>\n",
       "    <tr>\n",
       "      <th>Date</th>\n",
       "      <th></th>\n",
       "      <th></th>\n",
       "      <th></th>\n",
       "      <th></th>\n",
       "      <th></th>\n",
       "      <th></th>\n",
       "      <th></th>\n",
       "    </tr>\n",
       "  </thead>\n",
       "  <tbody>\n",
       "    <tr>\n",
       "      <th>2021-01-04</th>\n",
       "      <td>TSLA</td>\n",
       "      <td>239.820007</td>\n",
       "      <td>248.163330</td>\n",
       "      <td>239.063339</td>\n",
       "      <td>243.256668</td>\n",
       "      <td>243.256668</td>\n",
       "      <td>145914600</td>\n",
       "    </tr>\n",
       "    <tr>\n",
       "      <th>2021-01-05</th>\n",
       "      <td>TSLA</td>\n",
       "      <td>241.220001</td>\n",
       "      <td>246.946671</td>\n",
       "      <td>239.733337</td>\n",
       "      <td>245.036667</td>\n",
       "      <td>245.036667</td>\n",
       "      <td>96735600</td>\n",
       "    </tr>\n",
       "    <tr>\n",
       "      <th>2021-01-06</th>\n",
       "      <td>TSLA</td>\n",
       "      <td>252.830002</td>\n",
       "      <td>258.000000</td>\n",
       "      <td>249.699997</td>\n",
       "      <td>251.993332</td>\n",
       "      <td>251.993332</td>\n",
       "      <td>134100000</td>\n",
       "    </tr>\n",
       "    <tr>\n",
       "      <th>2021-01-07</th>\n",
       "      <td>TSLA</td>\n",
       "      <td>259.209991</td>\n",
       "      <td>272.329987</td>\n",
       "      <td>258.399994</td>\n",
       "      <td>272.013336</td>\n",
       "      <td>272.013336</td>\n",
       "      <td>154496700</td>\n",
       "    </tr>\n",
       "    <tr>\n",
       "      <th>2021-01-08</th>\n",
       "      <td>TSLA</td>\n",
       "      <td>285.333344</td>\n",
       "      <td>294.829987</td>\n",
       "      <td>279.463318</td>\n",
       "      <td>293.339996</td>\n",
       "      <td>293.339996</td>\n",
       "      <td>225166500</td>\n",
       "    </tr>\n",
       "    <tr>\n",
       "      <th>...</th>\n",
       "      <td>...</td>\n",
       "      <td>...</td>\n",
       "      <td>...</td>\n",
       "      <td>...</td>\n",
       "      <td>...</td>\n",
       "      <td>...</td>\n",
       "      <td>...</td>\n",
       "    </tr>\n",
       "    <tr>\n",
       "      <th>2021-12-27</th>\n",
       "      <td>MSFT</td>\n",
       "      <td>335.459991</td>\n",
       "      <td>342.480011</td>\n",
       "      <td>335.429993</td>\n",
       "      <td>342.450012</td>\n",
       "      <td>338.423340</td>\n",
       "      <td>19947000</td>\n",
       "    </tr>\n",
       "    <tr>\n",
       "      <th>2021-12-28</th>\n",
       "      <td>MSFT</td>\n",
       "      <td>343.149994</td>\n",
       "      <td>343.809998</td>\n",
       "      <td>340.320007</td>\n",
       "      <td>341.250000</td>\n",
       "      <td>337.237457</td>\n",
       "      <td>15661500</td>\n",
       "    </tr>\n",
       "    <tr>\n",
       "      <th>2021-12-29</th>\n",
       "      <td>MSFT</td>\n",
       "      <td>341.299988</td>\n",
       "      <td>344.299988</td>\n",
       "      <td>339.679993</td>\n",
       "      <td>341.950012</td>\n",
       "      <td>337.929199</td>\n",
       "      <td>15042000</td>\n",
       "    </tr>\n",
       "    <tr>\n",
       "      <th>2021-12-30</th>\n",
       "      <td>MSFT</td>\n",
       "      <td>341.910004</td>\n",
       "      <td>343.130005</td>\n",
       "      <td>338.820007</td>\n",
       "      <td>339.320007</td>\n",
       "      <td>335.330109</td>\n",
       "      <td>15994500</td>\n",
       "    </tr>\n",
       "    <tr>\n",
       "      <th>2021-12-31</th>\n",
       "      <td>MSFT</td>\n",
       "      <td>338.510010</td>\n",
       "      <td>339.359985</td>\n",
       "      <td>335.850006</td>\n",
       "      <td>336.320007</td>\n",
       "      <td>332.365417</td>\n",
       "      <td>18000800</td>\n",
       "    </tr>\n",
       "  </tbody>\n",
       "</table>\n",
       "<p>1260 rows × 7 columns</p>\n",
       "</div>"
      ],
      "text/plain": [
       "           Symbol        Open        High         Low       Close   Adj Close  \\\n",
       "Date                                                                            \n",
       "2021-01-04   TSLA  239.820007  248.163330  239.063339  243.256668  243.256668   \n",
       "2021-01-05   TSLA  241.220001  246.946671  239.733337  245.036667  245.036667   \n",
       "2021-01-06   TSLA  252.830002  258.000000  249.699997  251.993332  251.993332   \n",
       "2021-01-07   TSLA  259.209991  272.329987  258.399994  272.013336  272.013336   \n",
       "2021-01-08   TSLA  285.333344  294.829987  279.463318  293.339996  293.339996   \n",
       "...           ...         ...         ...         ...         ...         ...   \n",
       "2021-12-27   MSFT  335.459991  342.480011  335.429993  342.450012  338.423340   \n",
       "2021-12-28   MSFT  343.149994  343.809998  340.320007  341.250000  337.237457   \n",
       "2021-12-29   MSFT  341.299988  344.299988  339.679993  341.950012  337.929199   \n",
       "2021-12-30   MSFT  341.910004  343.130005  338.820007  339.320007  335.330109   \n",
       "2021-12-31   MSFT  338.510010  339.359985  335.850006  336.320007  332.365417   \n",
       "\n",
       "               Volume  \n",
       "Date                   \n",
       "2021-01-04  145914600  \n",
       "2021-01-05   96735600  \n",
       "2021-01-06  134100000  \n",
       "2021-01-07  154496700  \n",
       "2021-01-08  225166500  \n",
       "...               ...  \n",
       "2021-12-27   19947000  \n",
       "2021-12-28   15661500  \n",
       "2021-12-29   15042000  \n",
       "2021-12-30   15994500  \n",
       "2021-12-31   18000800  \n",
       "\n",
       "[1260 rows x 7 columns]"
      ]
     },
     "execution_count": 115,
     "metadata": {},
     "output_type": "execute_result"
    }
   ],
   "source": [
    "securities.merged_data()"
   ]
  },
  {
   "cell_type": "code",
   "execution_count": 116,
   "metadata": {},
   "outputs": [
    {
     "data": {
      "text/plain": [
       "<AxesSubplot: title={'center': 'Growth Comparison of Stocks'}, xlabel='Date'>"
      ]
     },
     "execution_count": 116,
     "metadata": {},
     "output_type": "execute_result"
    },
    {
     "data": {
      "image/png": "[encoded data removed]",
      "text/plain": [
       "<Figure size 1368x432 with 1 Axes>"
      ]
     },
     "metadata": {
      "needs_background": "light"
     },
     "output_type": "display_data"
    }
   ],
   "source": [
    "securities.normalization()"
   ]
  },
  {
   "cell_type": "code",
   "execution_count": 117,
   "metadata": {},
   "outputs": [
    {
     "data": {
      "text/html": [
       "<div>\n",
       "<style scoped>\n",
       "    .dataframe tbody tr th:only-of-type {\n",
       "        vertical-align: middle;\n",
       "    }\n",
       "\n",
       "    .dataframe tbody tr th {\n",
       "        vertical-align: top;\n",
       "    }\n",
       "\n",
       "    .dataframe thead th {\n",
       "        text-align: right;\n",
       "    }\n",
       "</style>\n",
       "<table border=\"1\" class=\"dataframe\">\n",
       "  <thead>\n",
       "    <tr style=\"text-align: right;\">\n",
       "      <th></th>\n",
       "      <th>TSLA</th>\n",
       "      <th>AMZN</th>\n",
       "      <th>AAPL</th>\n",
       "      <th>GOOG</th>\n",
       "      <th>MSFT</th>\n",
       "    </tr>\n",
       "    <tr>\n",
       "      <th>Date</th>\n",
       "      <th></th>\n",
       "      <th></th>\n",
       "      <th></th>\n",
       "      <th></th>\n",
       "      <th></th>\n",
       "    </tr>\n",
       "  </thead>\n",
       "  <tbody>\n",
       "    <tr>\n",
       "      <th>2021-01-04</th>\n",
       "      <td>NaN</td>\n",
       "      <td>NaN</td>\n",
       "      <td>NaN</td>\n",
       "      <td>NaN</td>\n",
       "      <td>NaN</td>\n",
       "    </tr>\n",
       "    <tr>\n",
       "      <th>2021-01-05</th>\n",
       "      <td>0.007317</td>\n",
       "      <td>0.010004</td>\n",
       "      <td>0.012364</td>\n",
       "      <td>0.007337</td>\n",
       "      <td>0.000965</td>\n",
       "    </tr>\n",
       "    <tr>\n",
       "      <th>2021-01-06</th>\n",
       "      <td>0.028390</td>\n",
       "      <td>-0.024897</td>\n",
       "      <td>-0.033661</td>\n",
       "      <td>-0.003234</td>\n",
       "      <td>-0.025929</td>\n",
       "    </tr>\n",
       "    <tr>\n",
       "      <th>2021-01-07</th>\n",
       "      <td>0.079447</td>\n",
       "      <td>0.007577</td>\n",
       "      <td>0.034123</td>\n",
       "      <td>0.029943</td>\n",
       "      <td>0.028457</td>\n",
       "    </tr>\n",
       "    <tr>\n",
       "      <th>2021-01-08</th>\n",
       "      <td>0.078403</td>\n",
       "      <td>0.006496</td>\n",
       "      <td>0.008631</td>\n",
       "      <td>0.011168</td>\n",
       "      <td>0.006093</td>\n",
       "    </tr>\n",
       "    <tr>\n",
       "      <th>...</th>\n",
       "      <td>...</td>\n",
       "      <td>...</td>\n",
       "      <td>...</td>\n",
       "      <td>...</td>\n",
       "      <td>...</td>\n",
       "    </tr>\n",
       "    <tr>\n",
       "      <th>2021-12-27</th>\n",
       "      <td>0.025248</td>\n",
       "      <td>-0.008178</td>\n",
       "      <td>0.022975</td>\n",
       "      <td>0.006263</td>\n",
       "      <td>0.023186</td>\n",
       "    </tr>\n",
       "    <tr>\n",
       "      <th>2021-12-28</th>\n",
       "      <td>-0.005000</td>\n",
       "      <td>0.005844</td>\n",
       "      <td>-0.005767</td>\n",
       "      <td>-0.010914</td>\n",
       "      <td>-0.003504</td>\n",
       "    </tr>\n",
       "    <tr>\n",
       "      <th>2021-12-29</th>\n",
       "      <td>-0.002095</td>\n",
       "      <td>-0.008555</td>\n",
       "      <td>0.000502</td>\n",
       "      <td>0.000386</td>\n",
       "      <td>0.002051</td>\n",
       "    </tr>\n",
       "    <tr>\n",
       "      <th>2021-12-30</th>\n",
       "      <td>-0.014592</td>\n",
       "      <td>-0.003289</td>\n",
       "      <td>-0.006578</td>\n",
       "      <td>-0.003427</td>\n",
       "      <td>-0.007691</td>\n",
       "    </tr>\n",
       "    <tr>\n",
       "      <th>2021-12-31</th>\n",
       "      <td>-0.012669</td>\n",
       "      <td>-0.011429</td>\n",
       "      <td>-0.003535</td>\n",
       "      <td>-0.009061</td>\n",
       "      <td>-0.008841</td>\n",
       "    </tr>\n",
       "  </tbody>\n",
       "</table>\n",
       "<p>252 rows × 5 columns</p>\n",
       "</div>"
      ],
      "text/plain": [
       "                TSLA      AMZN      AAPL      GOOG      MSFT\n",
       "Date                                                        \n",
       "2021-01-04       NaN       NaN       NaN       NaN       NaN\n",
       "2021-01-05  0.007317  0.010004  0.012364  0.007337  0.000965\n",
       "2021-01-06  0.028390 -0.024897 -0.033661 -0.003234 -0.025929\n",
       "2021-01-07  0.079447  0.007577  0.034123  0.029943  0.028457\n",
       "2021-01-08  0.078403  0.006496  0.008631  0.011168  0.006093\n",
       "...              ...       ...       ...       ...       ...\n",
       "2021-12-27  0.025248 -0.008178  0.022975  0.006263  0.023186\n",
       "2021-12-28 -0.005000  0.005844 -0.005767 -0.010914 -0.003504\n",
       "2021-12-29 -0.002095 -0.008555  0.000502  0.000386  0.002051\n",
       "2021-12-30 -0.014592 -0.003289 -0.006578 -0.003427 -0.007691\n",
       "2021-12-31 -0.012669 -0.011429 -0.003535 -0.009061 -0.008841\n",
       "\n",
       "[252 rows x 5 columns]"
      ]
     },
     "execution_count": 117,
     "metadata": {},
     "output_type": "execute_result"
    }
   ],
   "source": [
    "securities.get_returns(\"Simple\")"
   ]
  },
  {
   "cell_type": "code",
   "execution_count": 118,
   "metadata": {},
   "outputs": [
    {
     "name": "stdout",
     "output_type": "stream",
     "text": [
      "The Simple return of the stocks are \n",
      "TSLA    51.53\n",
      "AMZN     7.38\n",
      "AAPL    35.24\n",
      "GOOG    54.15\n",
      "MSFT    46.36\n",
      "dtype: float64\n"
     ]
    }
   ],
   "source": [
    "securities.individual_return()"
   ]
  },
  {
   "cell_type": "code",
   "execution_count": 119,
   "metadata": {},
   "outputs": [
    {
     "name": "stdout",
     "output_type": "stream",
     "text": [
      "TSLA    0.545551\n",
      "AMZN    0.239457\n",
      "AAPL    0.249160\n",
      "GOOG    0.236126\n",
      "MSFT    0.208798\n",
      "dtype: float64\n",
      "The lowest risk factor is 0.2087978507040224\n"
     ]
    }
   ],
   "source": [
    "securities.individual_risk_factor()"
   ]
  },
  {
   "cell_type": "code",
   "execution_count": 22,
   "metadata": {},
   "outputs": [
    {
     "data": {
      "text/plain": [
       "945"
      ]
     },
     "execution_count": 22,
     "metadata": {},
     "output_type": "execute_result"
    }
   ],
   "source": [
    "max_of_multiple_lists([[1,2,3,345,556], [6,4,23,2,323], [945,5,23,6]])"
   ]
  },
  {
   "cell_type": "code",
   "execution_count": 66,
   "metadata": {},
   "outputs": [],
   "source": []
  },
  {
   "cell_type": "code",
   "execution_count": null,
   "metadata": {},
   "outputs": [],
   "source": []
  }
 ],
 "metadata": {
  "kernelspec": {
   "display_name": "Python 3.9.12 ('base')",
   "language": "python",
   "name": "python3"
  },
  "language_info": {
   "codemirror_mode": {
    "name": "ipython",
    "version": 3
   },
   "file_extension": ".py",
   "mimetype": "text/x-python",
   "name": "python",
   "nbconvert_exporter": "python",
   "pygments_lexer": "ipython3",
   "version": "3.9.15"
  },
  "orig_nbformat": 4,
  "vscode": {
   "interpreter": {
    "hash": "4195ac55b1039ea2cba7172c0e5d96a7cf0ce118c8fecb7e1bc9c7c887f2d96f"
   }
  }
 },
 "nbformat": 4,
 "nbformat_minor": 2
}
