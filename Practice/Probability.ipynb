{
 "cells": [
  {
   "cell_type": "code",
   "execution_count": 2,
   "id": "4c6f66aa",
   "metadata": {},
   "outputs": [],
   "source": [
    "import pandas as pd\n",
    "import numpy as np"
   ]
  },
  {
   "cell_type": "markdown",
   "id": "c259a005",
   "metadata": {},
   "source": [
    "### CASE STUDY 1: Customer Purchases\n",
    "\n",
    "> Concept: Basic Probability, Conditional Probability, Independence\n",
    "\n",
    "> Scenario: You work for an e-commerce company. You have data on customers’ gender, whether they saw an ad, and whether they made a purchase.\n",
    "\n",
    "> **Practice Questions:**\n",
    "\n",
    "**1. Easy:** Find the probability a customer made a purchase.\n",
    "\n",
    "**2. Intermediate:** Find $P(\\text{Purchased} \\mid \\text{Saw Ad})$.\n",
    "\n",
    "**3. Hard:** Check if ‘seeing the ad’ and ‘purchasing’ are independent events.\n",
    "\n",
    "**4. Advanced:** What is the probability that a randomly selected customer is female and made a purchase, given that she saw the ad?  \n",
    "*Express as* $P(\\text{Female} \\cap \\text{Purchased} \\mid \\text{Saw Ad})$.\n",
    "\n",
    "**5. Advanced:** Among customers who did **not** see the ad, what is the probability that they made a purchase?  \n",
    "*Express as* $P(\\text{Purchased} \\mid \\text{Did Not See Ad})$.\n",
    "\n",
    "**6. Challenge:** What is the odds ratio of purchasing for customers who saw the ad versus those who did not see the ad?  \n",
    "*Hint: Odds ratio = (P(Purchased|Saw Ad) / (1 - P(Purchased|Saw Ad))) $\\div$ (P(Purchased|Did Not See Ad) / (1 - P(Purchased|Did Not See Ad)))*\n",
    "\n",
    "**7. Challenge:** If two customers are selected at random (with replacement), what is the probability that both are male and both made a purchase?\n",
    "\n",
    "**8. Expert:** Using a chi-squared test, determine if there is a statistically significant association between seeing the ad and making a purchase."
   ]
  },
  {
   "cell_type": "code",
   "execution_count": 4,
   "id": "558d3e7d",
   "metadata": {},
   "outputs": [],
   "source": [
    "customer_purchase_data = pd.read_excel(\"C:/Users/leste/Downloads/Probability_Case_Studies.xlsx\", sheet_name=\"Customer_Purchases\")"
   ]
  },
  {
   "cell_type": "code",
   "execution_count": 5,
   "id": "97ad1068",
   "metadata": {},
   "outputs": [
    {
     "data": {
      "text/html": [
       "<div>\n",
       "<style scoped>\n",
       "    .dataframe tbody tr th:only-of-type {\n",
       "        vertical-align: middle;\n",
       "    }\n",
       "\n",
       "    .dataframe tbody tr th {\n",
       "        vertical-align: top;\n",
       "    }\n",
       "\n",
       "    .dataframe thead th {\n",
       "        text-align: right;\n",
       "    }\n",
       "</style>\n",
       "<table border=\"1\" class=\"dataframe\">\n",
       "  <thead>\n",
       "    <tr style=\"text-align: right;\">\n",
       "      <th></th>\n",
       "      <th>Customer_ID</th>\n",
       "      <th>Gender</th>\n",
       "      <th>Saw_Ad</th>\n",
       "      <th>Purchased</th>\n",
       "    </tr>\n",
       "  </thead>\n",
       "  <tbody>\n",
       "    <tr>\n",
       "      <th>0</th>\n",
       "      <td>1</td>\n",
       "      <td>Male</td>\n",
       "      <td>Yes</td>\n",
       "      <td>Yes</td>\n",
       "    </tr>\n",
       "    <tr>\n",
       "      <th>1</th>\n",
       "      <td>2</td>\n",
       "      <td>Female</td>\n",
       "      <td>No</td>\n",
       "      <td>No</td>\n",
       "    </tr>\n",
       "    <tr>\n",
       "      <th>2</th>\n",
       "      <td>3</td>\n",
       "      <td>Male</td>\n",
       "      <td>Yes</td>\n",
       "      <td>No</td>\n",
       "    </tr>\n",
       "    <tr>\n",
       "      <th>3</th>\n",
       "      <td>4</td>\n",
       "      <td>Male</td>\n",
       "      <td>Yes</td>\n",
       "      <td>No</td>\n",
       "    </tr>\n",
       "    <tr>\n",
       "      <th>4</th>\n",
       "      <td>5</td>\n",
       "      <td>Male</td>\n",
       "      <td>No</td>\n",
       "      <td>No</td>\n",
       "    </tr>\n",
       "    <tr>\n",
       "      <th>...</th>\n",
       "      <td>...</td>\n",
       "      <td>...</td>\n",
       "      <td>...</td>\n",
       "      <td>...</td>\n",
       "    </tr>\n",
       "    <tr>\n",
       "      <th>195</th>\n",
       "      <td>196</td>\n",
       "      <td>Female</td>\n",
       "      <td>Yes</td>\n",
       "      <td>No</td>\n",
       "    </tr>\n",
       "    <tr>\n",
       "      <th>196</th>\n",
       "      <td>197</td>\n",
       "      <td>Female</td>\n",
       "      <td>No</td>\n",
       "      <td>No</td>\n",
       "    </tr>\n",
       "    <tr>\n",
       "      <th>197</th>\n",
       "      <td>198</td>\n",
       "      <td>Female</td>\n",
       "      <td>Yes</td>\n",
       "      <td>Yes</td>\n",
       "    </tr>\n",
       "    <tr>\n",
       "      <th>198</th>\n",
       "      <td>199</td>\n",
       "      <td>Male</td>\n",
       "      <td>No</td>\n",
       "      <td>No</td>\n",
       "    </tr>\n",
       "    <tr>\n",
       "      <th>199</th>\n",
       "      <td>200</td>\n",
       "      <td>Male</td>\n",
       "      <td>Yes</td>\n",
       "      <td>No</td>\n",
       "    </tr>\n",
       "  </tbody>\n",
       "</table>\n",
       "<p>200 rows × 4 columns</p>\n",
       "</div>"
      ],
      "text/plain": [
       "     Customer_ID  Gender Saw_Ad Purchased\n",
       "0              1    Male    Yes       Yes\n",
       "1              2  Female     No        No\n",
       "2              3    Male    Yes        No\n",
       "3              4    Male    Yes        No\n",
       "4              5    Male     No        No\n",
       "..           ...     ...    ...       ...\n",
       "195          196  Female    Yes        No\n",
       "196          197  Female     No        No\n",
       "197          198  Female    Yes       Yes\n",
       "198          199    Male     No        No\n",
       "199          200    Male    Yes        No\n",
       "\n",
       "[200 rows x 4 columns]"
      ]
     },
     "execution_count": 5,
     "metadata": {},
     "output_type": "execute_result"
    }
   ],
   "source": [
    "customer_purchase_data"
   ]
  },
  {
   "cell_type": "markdown",
   "id": "d5ebbc3f",
   "metadata": {},
   "source": [
    "> Solution 1"
   ]
  },
  {
   "cell_type": "code",
   "execution_count": 9,
   "id": "d854326c",
   "metadata": {},
   "outputs": [
    {
     "data": {
      "text/plain": [
       "No     141\n",
       "Yes     59\n",
       "Name: Purchased, dtype: int64"
      ]
     },
     "execution_count": 9,
     "metadata": {},
     "output_type": "execute_result"
    }
   ],
   "source": [
    "customer_purchase_data['Purchased'].value_counts()"
   ]
  },
  {
   "cell_type": "code",
   "execution_count": 23,
   "id": "f32abb98",
   "metadata": {},
   "outputs": [
    {
     "data": {
      "text/plain": [
       "59"
      ]
     },
     "execution_count": 23,
     "metadata": {},
     "output_type": "execute_result"
    }
   ],
   "source": [
    "Total_purchased = customer_purchase_data.query('Purchased == \"Yes\"')['Purchased'].count()\n",
    "Total_purchased"
   ]
  },
  {
   "cell_type": "code",
   "execution_count": 24,
   "id": "1878aab2",
   "metadata": {},
   "outputs": [
    {
     "data": {
      "text/plain": [
       "200"
      ]
     },
     "execution_count": 24,
     "metadata": {},
     "output_type": "execute_result"
    }
   ],
   "source": [
    "Total_customer_count = customer_purchase_data['Customer_ID'].count()\n",
    "Total_customer_count"
   ]
  },
  {
   "cell_type": "code",
   "execution_count": 27,
   "id": "c427d7f0",
   "metadata": {},
   "outputs": [
    {
     "data": {
      "text/plain": [
       "0.295"
      ]
     },
     "execution_count": 27,
     "metadata": {},
     "output_type": "execute_result"
    }
   ],
   "source": [
    "Probability_of_purchase = Total_purchased / Total_customer_count\n",
    "Probability_of_purchase"
   ]
  },
  {
   "cell_type": "markdown",
   "id": "9d746bdd",
   "metadata": {},
   "source": [
    "> Solution 2"
   ]
  },
  {
   "cell_type": "code",
   "execution_count": null,
   "id": "92bd8ec5",
   "metadata": {},
   "outputs": [
    {
     "data": {
      "text/plain": [
       "0.32456140350877194"
      ]
     },
     "execution_count": 28,
     "metadata": {},
     "output_type": "execute_result"
    }
   ],
   "source": []
  }
 ],
 "metadata": {
  "kernelspec": {
   "display_name": "base",
   "language": "python",
   "name": "python3"
  },
  "language_info": {
   "codemirror_mode": {
    "name": "ipython",
    "version": 3
   },
   "file_extension": ".py",
   "mimetype": "text/x-python",
   "name": "python",
   "nbconvert_exporter": "python",
   "pygments_lexer": "ipython3",
   "version": "3.9.15"
  }
 },
 "nbformat": 4,
 "nbformat_minor": 5
}
